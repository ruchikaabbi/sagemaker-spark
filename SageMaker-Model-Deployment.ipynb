{
 "cells": [
  {
   "cell_type": "code",
   "execution_count": 38,
   "metadata": {},
   "outputs": [
    {
     "name": "stdout",
     "output_type": "stream",
     "text": []
    }
   ],
   "source": [
    "import boto3\n",
    "\n",
    "sagemaker = boto3.client('sagemaker')\n",
    "\n",
    "model_name='spark-regression-model-009'\n",
    "endpoint_config_name='inference-server-009a-config'\n",
    "endpoint_name='inference-server-009a'\n",
    "\n",
    "## Create SageMaker Model\n",
    "role = 'arn:aws:iam::<account number>:role/sagemaker_role'\n",
    "primary_container = {\n",
    "    'Image': '<account number>.dkr.ecr.us-west-2.amazonaws.com/inference-server:latest',\n",
    "    'ModelDataUrl': 's3://<bucket>/models/spark-regression-model/model.tgz'\n",
    "}\n",
    "\n",
    "create_model_response = sagemaker.create_model(\n",
    "    ModelName = model_name,\n",
    "    ExecutionRoleArn = role,\n",
    "    PrimaryContainer = primary_container)\n",
    "\n",
    "print(create_model_response['ModelArn'])"
   ]
  },
  {
   "cell_type": "code",
   "execution_count": 39,
   "metadata": {},
   "outputs": [
    {
     "name": "stdout",
     "output_type": "stream",
     "text": []
    }
   ],
   "source": [
    "## Create EndPoint Config\n",
    "response = sagemaker.create_endpoint_config(\n",
    "    EndpointConfigName=endpoint_config_name,\n",
    "    ProductionVariants=[\n",
    "        {\n",
    "            'VariantName': 'default-variant-name',\n",
    "            'ModelName': model_name,\n",
    "            'InitialInstanceCount': 1,\n",
    "            'InstanceType': 'ml.m4.xlarge'\n",
    "        },\n",
    "    ])\n",
    "\n",
    "print (response)"
   ]
  },
  {
   "cell_type": "code",
   "execution_count": 40,
   "metadata": {},
   "outputs": [
    {
     "name": "stdout",
     "output_type": "stream",
     "text": []
    }
   ],
   "source": [
    "## Create Sagemaker Endpoint\n",
    "response = sagemaker.create_endpoint(\n",
    "    EndpointName=endpoint_name,\n",
    "    EndpointConfigName=endpoint_config_name,\n",
    ")\n",
    "\n",
    "print (response)"
   ]
  },
  {
   "cell_type": "code",
   "execution_count": 52,
   "metadata": {},
   "outputs": [
    {
     "name": "stdout",
     "output_type": "stream",
     "text": [
      "{\n",
      "  \"schema\": {\n",
      "    \"fields\": [\n",
      "      {\n",
      "        \"name\": \"prediction\",\n",
      "        \"type\": {\n",
      "          \"type\": \"basic\",\n",
      "          \"base\": \"double\",\n",
      "          \"isNullable\": false\n",
      "        }\n",
      "      }\n",
      "    ]\n",
      "  },\n",
      "  \"rows\": [\n",
      "    [\n",
      "      10236.175823272792\n",
      "    ]\n",
      "  ]\n",
      "}\n",
      "CPU times: user 16 ms, sys: 0 ns, total: 16 ms\n",
      "Wall time: 85.1 ms\n"
     ]
    }
   ],
   "source": [
    "%%time\n",
    "## Test the Endpoint\n",
    "import boto3, io, json\n",
    "\n",
    "client = boto3.client('sagemaker-runtime')\n",
    "\n",
    "input='{\"schema\":{\"fields\":[{\"name\":\"Price\",\"type\":\"double\"},{\"name\":\"Mileage\",\"type\":\"integer\"}, \\\n",
    "{\"name\":\"Make\",\"type\":\"string\"},{\"name\":\"Model\",\"type\":\"string\"},{\"name\":\"Trim\",\"type\":\"string\"}, \\\n",
    "{\"name\":\"Type\",\"type\":\"string\"},{\"name\":\"Cylinder\",\"type\":\"integer\"},{\"name\":\"Liter\",\"type\":\"double\"}, \\\n",
    "{\"name\":\"Doors\",\"type\":\"integer\"},{\"name\":\"Cruise\",\"type\":\"integer\"},{\"name\":\"Sound\",\"type\":\"integer\"}, \\\n",
    "{\"name\":\"Leather\",\"type\":\"integer\"}]}, \\\n",
    "\"rows\":[[9041.9062544231,26191,\"Chevrolet\",\"AVEO\",\"SVM Sedan 4D\",\"Sedan\",4,1.6,4,0,0,1]]}'\n",
    "    \n",
    "response = client.invoke_endpoint(\n",
    "    EndpointName=endpoint_name,\n",
    "    Body=input,\n",
    "    ContentType='application/json',\n",
    "    Accept='application/json'\n",
    ")\n",
    "\n",
    "res_json = json.loads(response['Body'].read().decode(\"utf-8\"))\n",
    "\n",
    "print (json.dumps(res_json, indent=2))"
   ]
  }
 ],
 "metadata": {
  "kernelspec": {
   "display_name": "conda_python3",
   "language": "python",
   "name": "conda_python3"
  },
  "language_info": {
   "codemirror_mode": {
    "name": "ipython",
    "version": 3
   },
   "file_extension": ".py",
   "mimetype": "text/x-python",
   "name": "python",
   "nbconvert_exporter": "python",
   "pygments_lexer": "ipython3",
   "version": "3.6.2"
  }
 },
 "nbformat": 4,
 "nbformat_minor": 2
}
