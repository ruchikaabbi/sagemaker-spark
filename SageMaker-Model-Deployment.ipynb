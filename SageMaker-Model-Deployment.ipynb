{
 "cells": [
  {
   "cell_type": "code",
   "execution_count": 1,
   "metadata": {},
   "outputs": [
    {
     "name": "stdout",
     "output_type": "stream",
     "text": [
      "arn:aws:sagemaker:us-west-2:036983998592:model/spark-regression-model-001\n"
     ]
    }
   ],
   "source": [
    "import boto3\n",
    "\n",
    "sagemaker = boto3.client('sagemaker')\n",
    "\n",
    "model_name='spark-regression-model-001'\n",
    "endpoint_config_name='inference-server-001a-config'\n",
    "endpoint_name='inference-server-001a'\n",
    "\n",
    "## Create SageMaker Model\n",
    "# Update Role Arn\n",
    "role = 'arn:aws:iam::036983998592:role/service-role/AmazonSageMaker-ExecutionRole-20180518T114698'\n",
    "primary_container = {\n",
    "# Do not change the inference image link unless you have your own\n",
    "    'Image': '959874710265.dkr.ecr.us-west-2.amazonaws.com/inference-server:latest',\n",
    "#    'ModelDataUrl': 's3://ruchika-wibd/models2/spark-regression-model/model.tgz'\n",
    "    'ModelDataUrl': 's3://ruchika-wibd-west-2/mleap/models/pipeline1/model.tgz'\n",
    "}\n",
    "\n",
    "create_model_response = sagemaker.create_model(\n",
    "    ModelName = model_name,\n",
    "    ExecutionRoleArn = role,\n",
    "    PrimaryContainer = primary_container)\n",
    "\n",
    "print(create_model_response['ModelArn'])"
   ]
  },
  {
   "cell_type": "code",
   "execution_count": 2,
   "metadata": {},
   "outputs": [
    {
     "name": "stdout",
     "output_type": "stream",
     "text": [
      "{'EndpointConfigArn': 'arn:aws:sagemaker:us-west-2:036983998592:endpoint-config/inference-server-001a-config', 'ResponseMetadata': {'RequestId': 'ccb244c7-1c41-43a4-b1b7-dcc3437ad161', 'HTTPStatusCode': 200, 'HTTPHeaders': {'x-amzn-requestid': 'ccb244c7-1c41-43a4-b1b7-dcc3437ad161', 'content-type': 'application/x-amz-json-1.1', 'content-length': '109', 'date': 'Tue, 28 Aug 2018 15:04:51 GMT'}, 'RetryAttempts': 0}}\n"
     ]
    }
   ],
   "source": [
    "## Create EndPoint Config\n",
    "response = sagemaker.create_endpoint_config(\n",
    "    EndpointConfigName=endpoint_config_name,\n",
    "    ProductionVariants=[\n",
    "        {\n",
    "            'VariantName': 'default-variant-name',\n",
    "            'ModelName': model_name,\n",
    "            'InitialInstanceCount': 1,\n",
    "            'InstanceType': 'ml.m4.xlarge'\n",
    "        },\n",
    "    ])\n",
    "\n",
    "print (response)"
   ]
  },
  {
   "cell_type": "code",
   "execution_count": 3,
   "metadata": {},
   "outputs": [
    {
     "name": "stdout",
     "output_type": "stream",
     "text": [
      "{'EndpointArn': 'arn:aws:sagemaker:us-west-2:036983998592:endpoint/inference-server-001a', 'ResponseMetadata': {'RequestId': '5598faf2-c3da-46ae-9310-0f2297439785', 'HTTPStatusCode': 200, 'HTTPHeaders': {'x-amzn-requestid': '5598faf2-c3da-46ae-9310-0f2297439785', 'content-type': 'application/x-amz-json-1.1', 'content-length': '89', 'date': 'Tue, 28 Aug 2018 15:04:57 GMT'}, 'RetryAttempts': 0}}\n"
     ]
    }
   ],
   "source": [
    "## Create Sagemaker Endpoint\n",
    "## Wait for Response. This may take a few minutes. \n",
    "response = sagemaker.create_endpoint(\n",
    "    EndpointName=endpoint_name,\n",
    "    EndpointConfigName=endpoint_config_name,\n",
    ")\n",
    "\n",
    "print (response)"
   ]
  },
  {
   "cell_type": "code",
   "execution_count": 4,
   "metadata": {},
   "outputs": [
    {
     "name": "stdout",
     "output_type": "stream",
     "text": [
      "{\n",
      "  \"schema\": {\n",
      "    \"fields\": [\n",
      "      {\n",
      "        \"name\": \"prediction\",\n",
      "        \"type\": {\n",
      "          \"type\": \"basic\",\n",
      "          \"base\": \"double\",\n",
      "          \"isNullable\": false\n",
      "        }\n",
      "      }\n",
      "    ]\n",
      "  },\n",
      "  \"rows\": [\n",
      "    [\n",
      "      10236.175823272792\n",
      "    ]\n",
      "  ]\n",
      "}\n",
      "CPU times: user 16 ms, sys: 0 ns, total: 16 ms\n",
      "Wall time: 2.52 s\n"
     ]
    }
   ],
   "source": [
    "%%time\n",
    "## Test the Endpoint\n",
    "import boto3, io, json\n",
    "\n",
    "client = boto3.client('sagemaker-runtime')\n",
    "\n",
    "input='{\"schema\":{\"fields\":[{\"name\":\"Price\",\"type\":\"double\"},{\"name\":\"Mileage\",\"type\":\"integer\"}, \\\n",
    "{\"name\":\"Make\",\"type\":\"string\"},{\"name\":\"Model\",\"type\":\"string\"},{\"name\":\"Trim\",\"type\":\"string\"}, \\\n",
    "{\"name\":\"Type\",\"type\":\"string\"},{\"name\":\"Cylinder\",\"type\":\"integer\"},{\"name\":\"Liter\",\"type\":\"double\"}, \\\n",
    "{\"name\":\"Doors\",\"type\":\"integer\"},{\"name\":\"Cruise\",\"type\":\"integer\"},{\"name\":\"Sound\",\"type\":\"integer\"}, \\\n",
    "{\"name\":\"Leather\",\"type\":\"integer\"}]}, \\\n",
    "\"rows\":[[9041.9062544231,26191,\"Chevrolet\",\"AVEO\",\"SVM Sedan 4D\",\"Sedan\",4,1.6,4,0,0,1]]}'\n",
    "    \n",
    "response = client.invoke_endpoint(\n",
    "    EndpointName=endpoint_name,\n",
    "    Body=input,\n",
    "    ContentType='application/json',\n",
    "    Accept='application/json'\n",
    ")\n",
    "\n",
    "res_json = json.loads(response['Body'].read().decode(\"utf-8\"))\n",
    "\n",
    "print (json.dumps(res_json, indent=2))"
   ]
  },
  {
   "cell_type": "code",
   "execution_count": null,
   "metadata": {},
   "outputs": [],
   "source": []
  }
 ],
 "metadata": {
  "kernelspec": {
   "display_name": "conda_python3",
   "language": "python",
   "name": "conda_python3"
  },
  "language_info": {
   "codemirror_mode": {
    "name": "ipython",
    "version": 3
   },
   "file_extension": ".py",
   "mimetype": "text/x-python",
   "name": "python",
   "nbconvert_exporter": "python",
   "pygments_lexer": "ipython3",
   "version": "3.6.5"
  }
 },
 "nbformat": 4,
 "nbformat_minor": 2
}
